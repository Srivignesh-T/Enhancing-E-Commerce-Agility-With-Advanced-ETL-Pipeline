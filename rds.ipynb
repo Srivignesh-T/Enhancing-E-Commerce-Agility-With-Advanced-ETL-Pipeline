{
 "cells": [
  {
   "cell_type": "code",
   "execution_count": null,
   "metadata": {},
   "outputs": [],
   "source": [
    "!pip install mysql-connector-python"
   ]
  },
  {
   "cell_type": "code",
   "execution_count": 2,
   "metadata": {},
   "outputs": [
    {
     "name": "stdout",
     "output_type": "stream",
     "text": [
      "Collecting tabulate\n",
      "  Downloading tabulate-0.9.0-py3-none-any.whl.metadata (34 kB)\n",
      "Downloading tabulate-0.9.0-py3-none-any.whl (35 kB)\n",
      "Installing collected packages: tabulate\n",
      "Successfully installed tabulate-0.9.0\n"
     ]
    },
    {
     "name": "stderr",
     "output_type": "stream",
     "text": [
      "\n",
      "[notice] A new release of pip is available: 24.0 -> 24.2\n",
      "[notice] To update, run: python.exe -m pip install --upgrade pip\n"
     ]
    }
   ],
   "source": [
    "!pip install tabulate"
   ]
  },
  {
   "cell_type": "code",
   "execution_count": 1,
   "metadata": {},
   "outputs": [
    {
     "name": "stdout",
     "output_type": "stream",
     "text": [
      "<mysql.connector.connection_cext.CMySQLConnection object at 0x00000245E8F34E00>\n"
     ]
    }
   ],
   "source": [
    "import mysql.connector\n",
    "mydb = mysql.connector.connect(\n",
    " host=\"your_rds_host_string\",\n",
    " user=\"username\",\n",
    " password=\"user_password\",)\n",
    "\n",
    "print(mydb)\n",
    "mycursor = mydb.cursor(buffered=True)"
   ]
  },
  {
   "cell_type": "code",
   "execution_count": 2,
   "metadata": {},
   "outputs": [
    {
     "name": "stdout",
     "output_type": "stream",
     "text": [
      "('guvi',)\n",
      "('information_schema',)\n",
      "('mysql',)\n",
      "('performance_schema',)\n",
      "('sys',)\n"
     ]
    }
   ],
   "source": [
    "mycursor.execute(\"SHOW DATABASES\")\n",
    "for i in mycursor:\n",
    "    print(i)"
   ]
  },
  {
   "cell_type": "code",
   "execution_count": 8,
   "metadata": {},
   "outputs": [],
   "source": [
    "mycursor.execute(\"CREATE DATABASE guvi\")"
   ]
  },
  {
   "cell_type": "code",
   "execution_count": 3,
   "metadata": {},
   "outputs": [],
   "source": [
    "mycursor.execute(\"USE guvi\")"
   ]
  },
  {
   "cell_type": "code",
   "execution_count": 7,
   "metadata": {},
   "outputs": [],
   "source": [
    "mycursor.execute(\"DROP TABLE final_table\")"
   ]
  },
  {
   "cell_type": "code",
   "execution_count": 12,
   "metadata": {},
   "outputs": [],
   "source": [
    "mycursor.execute(\"CREATE TABLE final_table (Order_ID VARCHAR(50), Customer_ID VARCHAR(10), Product_ID VARCHAR(20), Order_Date VARCHAR(30), Return_Reason VARCHAR(60), Return_Date VARCHAR(20))\")"
   ]
  },
  {
   "cell_type": "code",
   "execution_count": 4,
   "metadata": {},
   "outputs": [
    {
     "name": "stdout",
     "output_type": "stream",
     "text": [
      "+------------+---------------+--------------+--------------+-----------------+---------------+\n",
      "| Order_ID   | Customer_ID   | Product_ID   | Order_Date   | Return_Reason   | Return_Date   |\n",
      "|------------+---------------+--------------+--------------+-----------------+---------------|\n",
      "| O116       | C004          | P001         | 2023-08-12   | Changed Mind    | 2023-08-12    |\n",
      "| O111       | C003          | P002         | 2023-08-08   | Defective       | 2023-08-08    |\n",
      "| O101       | C001          | P001         | 2023-08-01   |                 |               |\n",
      "| O120       | C004          | P002         | 2023-08-15   | Changed Mind    | 2023-08-15    |\n",
      "| O106       | C002          | P003         | 2023-08-05   |                 |               |\n",
      "| O108       | C004          | P002         | 2023-08-06   | Wrong Item      | 2023-08-06    |\n",
      "| O117       | C001          | P002         | 2023-08-13   | Wrong Item      | 2023-08-13    |\n",
      "| O118       | C002          | P003         | 2023-08-14   |                 |               |\n",
      "| O115       | C003          | P003         | 2023-08-11   |                 |               |\n",
      "| O110       | C002          | P001         | 2023-08-07   | Changed Mind    | 2023-08-07    |\n",
      "| O105       | C001          | P002         | 2023-08-04   |                 |               |\n",
      "| O109       | C001          | P003         | 2023-08-06   |                 |               |\n",
      "| O113       | C001          | P001         | 2023-08-10   |                 |               |\n",
      "| O114       | C002          | P002         | 2023-08-11   | Defective       | 2023-08-11    |\n",
      "| O102       | C002          | P002         | 2023-08-02   |                 |               |\n",
      "| O107       | C003          | P001         | 2023-08-05   |                 |               |\n",
      "| O103       | C003          | P003         | 2023-08-02   |                 |               |\n",
      "| O119       | C003          | P001         | 2023-08-14   | Defective       | 2023-08-14    |\n",
      "| O112       | C004          | P003         | 2023-08-09   | Wrong Item      | 2023-08-09    |\n",
      "| O104       | C004          | P001         | 2023-08-03   | Defective       | 2023-08-03    |\n",
      "+------------+---------------+--------------+--------------+-----------------+---------------+\n"
     ]
    }
   ],
   "source": [
    "mycursor.execute(\"SELECT * FROM final_table\")\n",
    "out=mycursor.fetchall()\n",
    "from tabulate import tabulate\n",
    "print(tabulate(out,headers=[i[0] for i in mycursor.description],  tablefmt='psql'))"
   ]
  },
  {
   "cell_type": "code",
   "execution_count": 6,
   "metadata": {},
   "outputs": [],
   "source": [
    "mycursor.execute(\"INSERT INTO final_table (Order_ID, Customer_ID, Product_ID, Order_Date, Return_Reason, Return_Date) VALUES ('1234', '2765', '023', '02-03-2024', 'wrong product', '08-03-2024')\")"
   ]
  },
  {
   "cell_type": "code",
   "execution_count": 28,
   "metadata": {},
   "outputs": [],
   "source": [
    "mycursor.execute(\"DELETE FROM final_table\")"
   ]
  }
 ],
 "metadata": {
  "kernelspec": {
   "display_name": "venv",
   "language": "python",
   "name": "python3"
  },
  "language_info": {
   "codemirror_mode": {
    "name": "ipython",
    "version": 3
   },
   "file_extension": ".py",
   "mimetype": "text/x-python",
   "name": "python",
   "nbconvert_exporter": "python",
   "pygments_lexer": "ipython3",
   "version": "3.12.4"
  }
 },
 "nbformat": 4,
 "nbformat_minor": 2
}
